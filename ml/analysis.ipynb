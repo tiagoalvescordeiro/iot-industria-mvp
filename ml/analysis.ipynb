{
  "cells": [
    {
      "cell_type": "markdown",
      "metadata": {},
      "source": [
        "# ML Pipeline (Treino e Avaliacao)\n",
        "Conecta no PostgreSQL, carrega `readings`, treina `RandomForestRegressor` e exibe MAE + gráfico Previsao vs Real."
      ]
    },
    {
      "cell_type": "code",
      "metadata": {},
      "execution_count": null,
      "outputs": [],
      "source": [
        "import os, pickle\n",
        "import pandas as pd\n",
        "import psycopg2\n",
        "from sklearn.model_selection import train_test_split\n",
        "from sklearn.ensemble import RandomForestRegressor\n",
        "from sklearn.metrics import mean_absolute_error\n",
        "import matplotlib.pyplot as plt\n",
        "\n",
        "DB_HOST=os.getenv('DB_HOST','localhost')\n",
        "DB_PORT=os.getenv('DB_PORT','5432')\n",
        "DB_NAME=os.getenv('DB_NAME','iot')\n",
        "DB_USER=os.getenv('DB_USER','iot_user')\n",
        "DB_PASSWORD=os.getenv('DB_PASSWORD','iot_pass')\n",
        "\n",
        "conn = psycopg2.connect(host=DB_HOST, port=DB_PORT, dbname=DB_NAME, user=DB_USER, password=DB_PASSWORD)\n",
        "df = pd.read_sql(\"SELECT * FROM readings ORDER BY timestamp DESC LIMIT 1000\", conn)\n",
        "conn.close()\n",
        "df = df.dropna(subset=['temperature','target'])\n",
        "X = df[['temperature']].values\n",
        "y = df['target'].values\n",
        "X_train, X_test, y_train, y_test = train_test_split(X, y, test_size=0.2, random_state=42)\n",
        "model = RandomForestRegressor(n_estimators=200, random_state=42)\n",
        "model.fit(X_train, y_train)\n",
        "pred = model.predict(X_test)\n",
        "mae = mean_absolute_error(y_test, pred)\n",
        "print('MAE:', round(mae,4))\n",
        "with open('ml/model.pkl','wb') as f:\n",
        "    pickle.dump(model, f)\n",
        "plt.figure()\n",
        "plt.plot(y_test, label='real')\n",
        "plt.plot(pred, label='pred')\n",
        "plt.legend(); plt.title('Previsao vs Real'); plt.show()\n"
      ]
    }
  ],
  "metadata": {
    "kernelspec": {
      "display_name": "Python 3",
      "language": "python",
      "name": "python3"
    },
    "language_info": {
      "name": "python",
      "version": "3.11"
    }
  },
  "nbformat": 4,
  "nbformat_minor": 5
}